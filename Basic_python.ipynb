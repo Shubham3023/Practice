{
 "cells": [
  {
   "cell_type": "markdown",
   "id": "0943b91f",
   "metadata": {},
   "source": [
    "# 1. Method Overloading in python"
   ]
  },
  {
   "cell_type": "code",
   "execution_count": 9,
   "id": "b33dfb4c",
   "metadata": {},
   "outputs": [],
   "source": [
    "from multipledispatch import dispatch\n",
    "\n",
    "@dispatch(int, int)\n",
    "def product(x,y) :\n",
    "    return x * y\n",
    "\n",
    "@dispatch(int, int, int)\n",
    "def product(x,y,z) :\n",
    "    return x * y * z\n",
    "\n",
    "@dispatch(float, float, float)\n",
    "def product(x,y,z) :\n",
    "    return x * y * z"
   ]
  },
  {
   "cell_type": "code",
   "execution_count": 11,
   "id": "2f4c7ded",
   "metadata": {},
   "outputs": [
    {
     "data": {
      "text/plain": [
       "18"
      ]
     },
     "execution_count": 11,
     "metadata": {},
     "output_type": "execute_result"
    }
   ],
   "source": [
    "product(3,6)"
   ]
  },
  {
   "cell_type": "code",
   "execution_count": 13,
   "id": "b86f3102",
   "metadata": {},
   "outputs": [
    {
     "data": {
      "text/plain": [
       "80.04"
      ]
     },
     "execution_count": 13,
     "metadata": {},
     "output_type": "execute_result"
    }
   ],
   "source": [
    "round(product(2.9,4.6,6.0),2)"
   ]
  },
  {
   "cell_type": "code",
   "execution_count": 10,
   "id": "5fbf964a",
   "metadata": {},
   "outputs": [
    {
     "data": {
      "text/plain": [
       "120"
      ]
     },
     "execution_count": 10,
     "metadata": {},
     "output_type": "execute_result"
    }
   ],
   "source": [
    "product(3,5,8)"
   ]
  },
  {
   "cell_type": "markdown",
   "id": "e5111155",
   "metadata": {},
   "source": [
    "# 2. Method OverRiding in Python"
   ]
  },
  {
   "cell_type": "markdown",
   "id": "ac293f51",
   "metadata": {},
   "source": [
    "**1. Single Inheritance overriding**"
   ]
  },
  {
   "cell_type": "code",
   "execution_count": 1,
   "id": "c3ec4202",
   "metadata": {},
   "outputs": [],
   "source": [
    "class Parent():\n",
    "    \n",
    "    def __init__(self):\n",
    "        self.value = \"inside parent class\"\n",
    "        \n",
    "    def show(self):\n",
    "        print(self.value)\n",
    "        \n",
    "class Child(Parent) :\n",
    "    \n",
    "    def __init__(self) :\n",
    "        self.value = \"inside child class\"\n",
    "        \n",
    "    def show(self) :\n",
    "        print(self.value)    \n",
    "        \n",
    "objp = Parent()\n",
    "objc = Child()"
   ]
  },
  {
   "cell_type": "code",
   "execution_count": 2,
   "id": "89313ecb",
   "metadata": {},
   "outputs": [
    {
     "name": "stdout",
     "output_type": "stream",
     "text": [
      "inside parent class\n"
     ]
    }
   ],
   "source": [
    "objp.show()"
   ]
  },
  {
   "cell_type": "code",
   "execution_count": 3,
   "id": "c9beb472",
   "metadata": {},
   "outputs": [
    {
     "name": "stdout",
     "output_type": "stream",
     "text": [
      "inside child class\n"
     ]
    }
   ],
   "source": [
    "objc.show()"
   ]
  },
  {
   "cell_type": "markdown",
   "id": "ac6bdb55",
   "metadata": {},
   "source": [
    "**2. Multiple Inheritance overriding**"
   ]
  },
  {
   "cell_type": "code",
   "execution_count": 10,
   "id": "31d65245",
   "metadata": {},
   "outputs": [],
   "source": [
    "class Parent1():\n",
    "        \n",
    "    def show(self):\n",
    "        print(\"inside parent1 class\")\n",
    "        \n",
    "class Parent2() :\n",
    "   \n",
    "    def display(self):\n",
    "        print(\"inside parent2 class \")\n",
    "        \n",
    "class Child(Parent1, Parent2) :\n",
    "   \n",
    "    def show(self) :\n",
    "        print(\"inside child class\") \n",
    "        \n",
    "        \n",
    "objc1 = Child()"
   ]
  },
  {
   "cell_type": "code",
   "execution_count": 11,
   "id": "3c69c3fd",
   "metadata": {},
   "outputs": [
    {
     "name": "stdout",
     "output_type": "stream",
     "text": [
      "inside child class\n"
     ]
    }
   ],
   "source": [
    "objc1.show()"
   ]
  },
  {
   "cell_type": "code",
   "execution_count": 12,
   "id": "50f64816",
   "metadata": {},
   "outputs": [
    {
     "name": "stdout",
     "output_type": "stream",
     "text": [
      "inside parent2 class \n"
     ]
    }
   ],
   "source": [
    "objc1.display()"
   ]
  },
  {
   "cell_type": "markdown",
   "id": "6ac11af3",
   "metadata": {},
   "source": [
    "**3. Multi Level Inheritance overriding**"
   ]
  },
  {
   "cell_type": "code",
   "execution_count": 16,
   "id": "d5df1589",
   "metadata": {},
   "outputs": [],
   "source": [
    "class Parent() :\n",
    "    \n",
    "    def display(self) :\n",
    "        print(\"inside parent class\")\n",
    "        \n",
    "class Child(Parent) :\n",
    "    \n",
    "    def show(self) :\n",
    "        print(\"inside child class\")\n",
    "        \n",
    "class Grandchild(Child) :\n",
    "    \n",
    "    def show(self) :\n",
    "        print(\"inside grandchild class\")\n",
    "        \n",
    "objc2 = Grandchild()"
   ]
  },
  {
   "cell_type": "code",
   "execution_count": 17,
   "id": "9aa9b30d",
   "metadata": {},
   "outputs": [
    {
     "name": "stdout",
     "output_type": "stream",
     "text": [
      "inside grandchild class\n"
     ]
    }
   ],
   "source": [
    "objc2.show()"
   ]
  },
  {
   "cell_type": "code",
   "execution_count": 18,
   "id": "4f175378",
   "metadata": {},
   "outputs": [
    {
     "name": "stdout",
     "output_type": "stream",
     "text": [
      "inside parent class\n"
     ]
    }
   ],
   "source": [
    "objc2.display()"
   ]
  },
  {
   "cell_type": "markdown",
   "id": "e713f086",
   "metadata": {},
   "source": [
    "**Calling the Parent’s method within the overridding method**\n",
    "\n",
    "**1. Using Classname**"
   ]
  },
  {
   "cell_type": "code",
   "execution_count": 19,
   "id": "4e909a66",
   "metadata": {},
   "outputs": [],
   "source": [
    "class Parent() :\n",
    "    \n",
    "    def show(self) :\n",
    "        print(\"inside parent class\")\n",
    "\n",
    "class Child(Parent) :\n",
    "    \n",
    "    def show(self) :\n",
    "        \n",
    "        Parent.show(self) #calling overridding method inside child method\n",
    "        print(\"inside child class\")\n",
    "        \n",
    "objc3 = Child()"
   ]
  },
  {
   "cell_type": "code",
   "execution_count": 20,
   "id": "de066beb",
   "metadata": {},
   "outputs": [
    {
     "name": "stdout",
     "output_type": "stream",
     "text": [
      "inside parent class\n",
      "inside child class\n"
     ]
    }
   ],
   "source": [
    "objc3.show()"
   ]
  },
  {
   "cell_type": "markdown",
   "id": "9ff2bfdb",
   "metadata": {},
   "source": [
    "**1. Using super()**"
   ]
  },
  {
   "cell_type": "code",
   "execution_count": 23,
   "id": "3e472c9e",
   "metadata": {},
   "outputs": [],
   "source": [
    "class Parent() :\n",
    "    def show(self) :\n",
    "        print(\"inside parent class\")\n",
    "        \n",
    "class Child(Parent) :\n",
    "    def show(self) :\n",
    "        \n",
    "        super().show()\n",
    "        print(\"inside child class\")\n",
    "        \n",
    "objc4 = Child()"
   ]
  },
  {
   "cell_type": "code",
   "execution_count": 24,
   "id": "17e8dfac",
   "metadata": {},
   "outputs": [
    {
     "name": "stdout",
     "output_type": "stream",
     "text": [
      "inside parent class\n",
      "inside child class\n"
     ]
    }
   ],
   "source": [
    "objc4.show()"
   ]
  },
  {
   "cell_type": "markdown",
   "id": "7f308cff",
   "metadata": {},
   "source": [
    "# 3. decorators"
   ]
  },
  {
   "cell_type": "markdown",
   "id": "1b3ebf74",
   "metadata": {},
   "source": [
    "**1. Functions are objects**"
   ]
  },
  {
   "cell_type": "code",
   "execution_count": 16,
   "id": "45370b32",
   "metadata": {},
   "outputs": [
    {
     "name": "stdout",
     "output_type": "stream",
     "text": [
      "SHUBHAM\n",
      "FROM YELL, HELLO\n"
     ]
    }
   ],
   "source": [
    "def shout(text) :\n",
    "    print(text.upper())\n",
    "\n",
    "shout(\"shubham\")\n",
    "\n",
    "yell = shout\n",
    "yell(\"From yell, Hello\")\n"
   ]
  },
  {
   "cell_type": "markdown",
   "id": "a6188626",
   "metadata": {},
   "source": [
    "**2. Functions can be passed as arguments to other functions**"
   ]
  },
  {
   "cell_type": "code",
   "execution_count": 1,
   "id": "be2bb73c",
   "metadata": {},
   "outputs": [
    {
     "name": "stdout",
     "output_type": "stream",
     "text": [
      "THIS IS COMING FROM FUNCTION AS A ARGUMENT\n"
     ]
    }
   ],
   "source": [
    "def shout(text) :\n",
    "    print(text.upper())\n",
    "\n",
    "def whisper(text) :\n",
    "    return text.lower()\n",
    "\n",
    "def greetings(func) :\n",
    "    greetings1 = func(\"This is Coming from Function as a Argument\")\n",
    "    return greetings1\n",
    "    \n",
    "greetings(shout)"
   ]
  },
  {
   "cell_type": "code",
   "execution_count": 2,
   "id": "c14bb318",
   "metadata": {},
   "outputs": [
    {
     "data": {
      "text/plain": [
       "'this is coming from function as a argument'"
      ]
     },
     "execution_count": 2,
     "metadata": {},
     "output_type": "execute_result"
    }
   ],
   "source": [
    "greetings(whisper)"
   ]
  },
  {
   "cell_type": "markdown",
   "id": "bd5e89ff",
   "metadata": {},
   "source": [
    "**3. Functions can return another function**"
   ]
  },
  {
   "cell_type": "code",
   "execution_count": 10,
   "id": "dfe23947",
   "metadata": {},
   "outputs": [
    {
     "name": "stdout",
     "output_type": "stream",
     "text": [
      "25\n"
     ]
    }
   ],
   "source": [
    "def create_adder(x) :\n",
    "    def adder(y) :\n",
    "        return x + y\n",
    "    return adder\n",
    "\n",
    "add_new = create_adder(15)\n",
    "print(add_new(10))"
   ]
  },
  {
   "cell_type": "code",
   "execution_count": null,
   "id": "63025c14",
   "metadata": {},
   "outputs": [],
   "source": []
  },
  {
   "cell_type": "code",
   "execution_count": null,
   "id": "3b51ecbd",
   "metadata": {},
   "outputs": [],
   "source": []
  },
  {
   "cell_type": "code",
   "execution_count": null,
   "id": "bc99e2c1",
   "metadata": {},
   "outputs": [],
   "source": []
  },
  {
   "cell_type": "code",
   "execution_count": null,
   "id": "879d4593",
   "metadata": {},
   "outputs": [],
   "source": []
  },
  {
   "cell_type": "code",
   "execution_count": null,
   "id": "09304f7c",
   "metadata": {},
   "outputs": [],
   "source": []
  }
 ],
 "metadata": {
  "kernelspec": {
   "display_name": "Python 3 (ipykernel)",
   "language": "python",
   "name": "python3"
  },
  "language_info": {
   "codemirror_mode": {
    "name": "ipython",
    "version": 3
   },
   "file_extension": ".py",
   "mimetype": "text/x-python",
   "name": "python",
   "nbconvert_exporter": "python",
   "pygments_lexer": "ipython3",
   "version": "3.9.12"
  }
 },
 "nbformat": 4,
 "nbformat_minor": 5
}
