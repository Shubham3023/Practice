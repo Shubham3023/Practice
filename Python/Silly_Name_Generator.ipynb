{
 "cells": [
  {
   "cell_type": "code",
   "execution_count": 5,
   "id": "b6e2e124",
   "metadata": {},
   "outputs": [],
   "source": [
    "import random"
   ]
  },
  {
   "cell_type": "code",
   "execution_count": 9,
   "id": "c6763544",
   "metadata": {},
   "outputs": [],
   "source": [
    "import sys"
   ]
  },
  {
   "cell_type": "code",
   "execution_count": null,
   "id": "c9d40937",
   "metadata": {},
   "outputs": [],
   "source": [
    "print(\"welcome to sidekickname picker \\n\")"
   ]
  },
  {
   "cell_type": "code",
   "execution_count": 6,
   "id": "42bde742",
   "metadata": {},
   "outputs": [],
   "source": [
    "first = ('Eddard \"Ned\"','Robert','Jaime','Catelyn','Cersei','Daenerys','Jorah','Viserys','Jon',\n",
    "        'Robb','Sansa','Arya','Theon','Bran','Joffrey','Sandor \"The Hound\"','Tyrion','Khal',\n",
    "        'Petyr \"Littlefinger\"','Davos','Samwell','Stannis','Jeor','Bronn','Varys','Shae','Margaery',\n",
    "        'Tywin','Talisa','Ygritte','Gendry','Tormund','Brienne of','Ramsay','Gilly','Daario',\n",
    "        'Missandei','Tommen','Ellaria','Jaqen','Roose','The High','Grey','Syrio','Gregor \"The Mountain\"',\n",
    "        'Mance',)"
   ]
  },
  {
   "cell_type": "code",
   "execution_count": 7,
   "id": "1bc4bf89",
   "metadata": {},
   "outputs": [],
   "source": [
    "last = ('Stark','Baratheon','Lannister','Targaryen','Mormont','Snow','Greyjoy','Clegane','Drogo',\n",
    "       'Baelish','Seaworth','Tarly','Melisandre','Maegyr','Giantsbane','Tarth','Bolton','Naharis',\n",
    "       'Sand',\"H'ghar\",'Sparrow','Worm','Forel','Rayder',)"
   ]
  },
  {
   "cell_type": "code",
   "execution_count": 10,
   "id": "972b09cc",
   "metadata": {},
   "outputs": [
    {
     "name": "stderr",
     "output_type": "stream",
     "text": [
      "Jorah Sand\n"
     ]
    },
    {
     "name": "stdout",
     "output_type": "stream",
     "text": [
      "enter n to quit or enter to try again\n"
     ]
    },
    {
     "name": "stderr",
     "output_type": "stream",
     "text": [
      "Davos Naharis\n"
     ]
    },
    {
     "name": "stdout",
     "output_type": "stream",
     "text": [
      "enter n to quit or enter to try again\n"
     ]
    },
    {
     "name": "stderr",
     "output_type": "stream",
     "text": [
      "Daario Targaryen\n"
     ]
    },
    {
     "name": "stdout",
     "output_type": "stream",
     "text": [
      "enter n to quit or enter to try again\n"
     ]
    },
    {
     "name": "stderr",
     "output_type": "stream",
     "text": [
      "Tormund H'ghar\n"
     ]
    },
    {
     "name": "stdout",
     "output_type": "stream",
     "text": [
      "enter n to quit or enter to try again\n"
     ]
    },
    {
     "name": "stderr",
     "output_type": "stream",
     "text": [
      "Jon Worm\n"
     ]
    },
    {
     "name": "stdout",
     "output_type": "stream",
     "text": [
      "enter n to quit or enter to try again\n"
     ]
    },
    {
     "name": "stderr",
     "output_type": "stream",
     "text": [
      "Shae Drogo\n"
     ]
    },
    {
     "name": "stdout",
     "output_type": "stream",
     "text": [
      "enter n to quit or enter to try again\n"
     ]
    },
    {
     "name": "stderr",
     "output_type": "stream",
     "text": [
      "Eddard \"Ned\" Bolton\n"
     ]
    },
    {
     "name": "stdout",
     "output_type": "stream",
     "text": [
      "enter n to quit or enter to try again\n"
     ]
    },
    {
     "name": "stderr",
     "output_type": "stream",
     "text": [
      "Jaqen Baelish\n"
     ]
    },
    {
     "name": "stdout",
     "output_type": "stream",
     "text": [
      "enter n to quit or enter to try again\n"
     ]
    },
    {
     "name": "stderr",
     "output_type": "stream",
     "text": [
      "Ellaria Worm\n"
     ]
    },
    {
     "name": "stdout",
     "output_type": "stream",
     "text": [
      "enter n to quit or enter to try again\n"
     ]
    },
    {
     "name": "stderr",
     "output_type": "stream",
     "text": [
      "Cersei Forel\n"
     ]
    },
    {
     "name": "stdout",
     "output_type": "stream",
     "text": [
      "enter n to quit or enter to try again\n"
     ]
    },
    {
     "name": "stderr",
     "output_type": "stream",
     "text": [
      "Jaime Sparrow\n"
     ]
    },
    {
     "name": "stdout",
     "output_type": "stream",
     "text": [
      "enter n to quit or enter to try again\n"
     ]
    },
    {
     "name": "stderr",
     "output_type": "stream",
     "text": [
      "Arya Seaworth\n"
     ]
    },
    {
     "name": "stdout",
     "output_type": "stream",
     "text": [
      "enter n to quit or enter to try again\n"
     ]
    },
    {
     "name": "stderr",
     "output_type": "stream",
     "text": [
      "Sansa Sparrow\n"
     ]
    },
    {
     "name": "stdout",
     "output_type": "stream",
     "text": [
      "enter n to quit or enter to try againn\n",
      "press enter to exit\n"
     ]
    },
    {
     "data": {
      "text/plain": [
       "''"
      ]
     },
     "execution_count": 10,
     "metadata": {},
     "output_type": "execute_result"
    }
   ],
   "source": [
    "while True:\n",
    "    first_name = random.choice(first)\n",
    "    last_name = random.choice(last)\n",
    "    \n",
    "    print(\"{} {}\".format(first_name, last_name), file=sys.stderr)\n",
    "    \n",
    "    try_again = input(\"enter n to quit or enter to try again\")\n",
    "    if try_again.lower() == 'n':\n",
    "        break\n",
    "input(\"press enter to exit\")\n",
    "    "
   ]
  },
  {
   "cell_type": "code",
   "execution_count": null,
   "id": "346d4c86",
   "metadata": {},
   "outputs": [],
   "source": []
  }
 ],
 "metadata": {
  "kernelspec": {
   "display_name": "Python 3 (ipykernel)",
   "language": "python",
   "name": "python3"
  },
  "language_info": {
   "codemirror_mode": {
    "name": "ipython",
    "version": 3
   },
   "file_extension": ".py",
   "mimetype": "text/x-python",
   "name": "python",
   "nbconvert_exporter": "python",
   "pygments_lexer": "ipython3",
   "version": "3.9.12"
  }
 },
 "nbformat": 4,
 "nbformat_minor": 5
}
