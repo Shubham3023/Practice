{
 "cells": [
  {
   "cell_type": "code",
   "execution_count": 78,
   "id": "e0de5b9e",
   "metadata": {},
   "outputs": [],
   "source": [
    "import re"
   ]
  },
  {
   "cell_type": "markdown",
   "id": "7659439d",
   "metadata": {},
   "source": [
    "### 1. Meta Characters : Metacharacters are characters with a special meaning"
   ]
  },
  {
   "cell_type": "code",
   "execution_count": 79,
   "id": "6a929d6d",
   "metadata": {},
   "outputs": [
    {
     "data": {
      "text/plain": [
       "<re.Match object; span=(0, 17), match='The rain in Spain'>"
      ]
     },
     "execution_count": 79,
     "metadata": {},
     "output_type": "execute_result"
    }
   ],
   "source": [
    "txt = \"The rain in Spain\"\n",
    "\n",
    "re.search(\"^The.*Spain$\", txt)"
   ]
  },
  {
   "cell_type": "code",
   "execution_count": 80,
   "id": "95861697",
   "metadata": {},
   "outputs": [
    {
     "data": {
      "text/plain": [
       "['h', 'e', 'a', 'i', 'n', 'i', 'n', 'p', 'a', 'i', 'n']"
      ]
     },
     "execution_count": 80,
     "metadata": {},
     "output_type": "execute_result"
    }
   ],
   "source": [
    "re.findall(\"[a-p]\", txt)"
   ]
  },
  {
   "cell_type": "code",
   "execution_count": 81,
   "id": "cc206db0",
   "metadata": {},
   "outputs": [
    {
     "data": {
      "text/plain": [
       "['1', '0', '7', '8', '9']"
      ]
     },
     "execution_count": 81,
     "metadata": {},
     "output_type": "execute_result"
    }
   ],
   "source": [
    "s = \"ramu is 1 cricke0ter in team 789\"\n",
    "re.findall(\"\\d\", s)  #\\d is used to find digits or special sequence"
   ]
  },
  {
   "cell_type": "code",
   "execution_count": 82,
   "id": "3ec28c2b",
   "metadata": {},
   "outputs": [
    {
     "data": {
      "text/plain": [
       "['cricke0ter']"
      ]
     },
     "execution_count": 82,
     "metadata": {},
     "output_type": "execute_result"
    }
   ],
   "source": [
    "# any characters in between\n",
    "re.findall(\"c.*r\",s)"
   ]
  },
  {
   "cell_type": "code",
   "execution_count": 83,
   "id": "7e4f901b",
   "metadata": {},
   "outputs": [
    {
     "data": {
      "text/plain": [
       "['ramu is 1 cricke0ter in team 789']"
      ]
     },
     "execution_count": 83,
     "metadata": {},
     "output_type": "execute_result"
    }
   ],
   "source": [
    "# starts with\n",
    "re.findall(\"^ramu.*\", s)"
   ]
  },
  {
   "cell_type": "code",
   "execution_count": 84,
   "id": "3254459c",
   "metadata": {},
   "outputs": [
    {
     "data": {
      "text/plain": [
       "<re.Match object; span=(0, 1), match='r'>"
      ]
     },
     "execution_count": 84,
     "metadata": {},
     "output_type": "execute_result"
    }
   ],
   "source": [
    "re.search(\"^r\",s)"
   ]
  },
  {
   "cell_type": "code",
   "execution_count": 85,
   "id": "bbcdc4cc",
   "metadata": {},
   "outputs": [
    {
     "data": {
      "text/plain": [
       "['ramu is 1 cricke0ter in team 789']"
      ]
     },
     "execution_count": 85,
     "metadata": {},
     "output_type": "execute_result"
    }
   ],
   "source": [
    "re.findall(\"^r.*9$\",s)"
   ]
  },
  {
   "cell_type": "code",
   "execution_count": 86,
   "id": "e5976500",
   "metadata": {},
   "outputs": [
    {
     "data": {
      "text/plain": [
       "['ramu is 1 cricke0ter in team 789']"
      ]
     },
     "execution_count": 86,
     "metadata": {},
     "output_type": "execute_result"
    }
   ],
   "source": [
    "# one or more occurances '+'\n",
    "\n",
    "re.findall(\"^r.+\",s)"
   ]
  },
  {
   "cell_type": "code",
   "execution_count": 87,
   "id": "9225468d",
   "metadata": {},
   "outputs": [
    {
     "data": {
      "text/plain": [
       "['ra']"
      ]
     },
     "execution_count": 87,
     "metadata": {},
     "output_type": "execute_result"
    }
   ],
   "source": [
    "# Zero or one occurrences '?'\n",
    "\n",
    "re.findall(\"^r.?\", s)"
   ]
  },
  {
   "cell_type": "code",
   "execution_count": 88,
   "id": "2d508e38",
   "metadata": {},
   "outputs": [
    {
     "data": {
      "text/plain": [
       "['ramu']"
      ]
     },
     "execution_count": 88,
     "metadata": {},
     "output_type": "execute_result"
    }
   ],
   "source": [
    "# Exactly the specified number of occurrences '{}'\n",
    "\n",
    "re.findall('^r.{3}', s)"
   ]
  },
  {
   "cell_type": "code",
   "execution_count": 89,
   "id": "e8bb0cf0",
   "metadata": {},
   "outputs": [
    {
     "data": {
      "text/plain": [
       "['Good ']"
      ]
     },
     "execution_count": 89,
     "metadata": {},
     "output_type": "execute_result"
    }
   ],
   "source": [
    "# Either or '|'\n",
    "s1 = \"Ramesh is Good boy\"\n",
    "re.findall(\"Good | Bad\", s1)"
   ]
  },
  {
   "cell_type": "markdown",
   "id": "002330c3",
   "metadata": {},
   "source": [
    "### 2. Special sequences: A special sequence is a \\ followed by one of the characters in the list below, and has a special meaning"
   ]
  },
  {
   "cell_type": "code",
   "execution_count": 90,
   "id": "6e4843c8",
   "metadata": {},
   "outputs": [
    {
     "data": {
      "text/plain": [
       "['ram']"
      ]
     },
     "execution_count": 90,
     "metadata": {},
     "output_type": "execute_result"
    }
   ],
   "source": [
    "# \"\\A\"  Returns a match if the specified characters are at the beginning of the string\n",
    "\n",
    "re.findall(\"\\Aram\", s)"
   ]
  },
  {
   "cell_type": "code",
   "execution_count": 91,
   "id": "b0890640",
   "metadata": {},
   "outputs": [
    {
     "data": {
      "text/plain": [
       "['ram', 'ram', 'ram']"
      ]
     },
     "execution_count": 91,
     "metadata": {},
     "output_type": "execute_result"
    }
   ],
   "source": [
    "# \"\\b\"  Returns a match where the specified characters are at the beginning or at the end of a word\n",
    "s2 = \"ram naam ram satya hai ram\"\n",
    "re.findall(r\"\\bram\", s2)"
   ]
  },
  {
   "cell_type": "code",
   "execution_count": 92,
   "id": "0cf7717c",
   "metadata": {},
   "outputs": [
    {
     "data": {
      "text/plain": [
       "[]"
      ]
     },
     "execution_count": 92,
     "metadata": {},
     "output_type": "execute_result"
    }
   ],
   "source": [
    "re.findall(r\"\\bam\", s2)"
   ]
  },
  {
   "cell_type": "markdown",
   "id": "f0c193f4",
   "metadata": {},
   "source": [
    "### \"\\B\" Returns a match where the specified characters are present, but NOT at the beginning (or at the end) of a word"
   ]
  },
  {
   "cell_type": "code",
   "execution_count": 93,
   "id": "517f7e17",
   "metadata": {},
   "outputs": [
    {
     "data": {
      "text/plain": [
       "['aam']"
      ]
     },
     "execution_count": 93,
     "metadata": {},
     "output_type": "execute_result"
    }
   ],
   "source": [
    "re.findall(\"\\Baam\", s2)"
   ]
  },
  {
   "cell_type": "code",
   "execution_count": 94,
   "id": "8fe0313d",
   "metadata": {},
   "outputs": [
    {
     "data": {
      "text/plain": [
       "['am', 'am', 'am', 'am']"
      ]
     },
     "execution_count": 94,
     "metadata": {},
     "output_type": "execute_result"
    }
   ],
   "source": [
    "re.findall(\"\\Bam\", s2)"
   ]
  },
  {
   "cell_type": "code",
   "execution_count": 95,
   "id": "a8c3eb89",
   "metadata": {},
   "outputs": [
    {
     "data": {
      "text/plain": [
       "['H', 'e', 'l', 'l', 'o', ' ', 'J', 'i']"
      ]
     },
     "execution_count": 95,
     "metadata": {},
     "output_type": "execute_result"
    }
   ],
   "source": [
    "# \"\\d\" Returns a match where the string contain digits (0 - 9)\n",
    "\n",
    "# \"\\D\" Returns a match where the string DOES NOT contain digits\n",
    "\n",
    "s3 = \"Hello Ji\"\n",
    "s4 = \"Hello 911 Help!\"\n",
    "\n",
    "re.findall(\"\\D\", s3)"
   ]
  },
  {
   "cell_type": "code",
   "execution_count": 96,
   "id": "34582fcc",
   "metadata": {},
   "outputs": [
    {
     "data": {
      "text/plain": [
       "[' ', ' ']"
      ]
     },
     "execution_count": 96,
     "metadata": {},
     "output_type": "execute_result"
    }
   ],
   "source": [
    "# \"\\s\" Returns a match where the string contain a white space character\n",
    "\n",
    "# \"\\S\" Returns a match where the string DOES NOT contain a white space character\n",
    "\n",
    "s5 = \"Tathastu_vatsaa\"\n",
    "\n",
    "re.findall(\"\\s\", s4)"
   ]
  },
  {
   "cell_type": "code",
   "execution_count": 97,
   "id": "6c718e9e",
   "metadata": {},
   "outputs": [
    {
     "data": {
      "text/plain": [
       "['9', '1', '1']"
      ]
     },
     "execution_count": 97,
     "metadata": {},
     "output_type": "execute_result"
    }
   ],
   "source": [
    "re.findall(\"\\d\", s4)"
   ]
  },
  {
   "cell_type": "code",
   "execution_count": 98,
   "id": "58c71148",
   "metadata": {},
   "outputs": [
    {
     "data": {
      "text/plain": [
       "['T', 'a', 't', 'h', 'a', 's', 't', 'u', '_', 'v', 'a', 't', 's', 'a', 'a']"
      ]
     },
     "execution_count": 98,
     "metadata": {},
     "output_type": "execute_result"
    }
   ],
   "source": [
    "re.findall(\"\\S\", s5)"
   ]
  },
  {
   "cell_type": "code",
   "execution_count": 99,
   "id": "e32aadd2",
   "metadata": {},
   "outputs": [
    {
     "data": {
      "text/plain": [
       "['R', 'a', 'm', 'i', 's', '1', '_', 'n', 'a', 'm', 'e']"
      ]
     },
     "execution_count": 99,
     "metadata": {},
     "output_type": "execute_result"
    }
   ],
   "source": [
    "# \"\\w\" Returns a match where the string contains any word characters \n",
    "#(characters from a to Z, digits from 0-9, and the underscore _ character)\n",
    "\n",
    "# \"\\W\" Returns a match where the string DOES NOT contain any word characters\n",
    "\n",
    "s6 = \"Ram is 1 _name\"\n",
    "s7 = \"### wq\"\n",
    "re.findall(\"\\w\", s6)"
   ]
  },
  {
   "cell_type": "code",
   "execution_count": 100,
   "id": "555f4b11",
   "metadata": {},
   "outputs": [
    {
     "data": {
      "text/plain": [
       "['#', '#', '#', ' ']"
      ]
     },
     "execution_count": 100,
     "metadata": {},
     "output_type": "execute_result"
    }
   ],
   "source": [
    "re.findall(\"\\W\", s7) # it detects space and special characters"
   ]
  },
  {
   "cell_type": "code",
   "execution_count": 101,
   "id": "e95366e3",
   "metadata": {},
   "outputs": [
    {
     "data": {
      "text/plain": [
       "['GOAT']"
      ]
     },
     "execution_count": 101,
     "metadata": {},
     "output_type": "execute_result"
    }
   ],
   "source": [
    "# \"\\Z\"  Returns a match if the specified characters are at the end of the string\n",
    "\n",
    "s8 = \"Curry is GOAT\"\n",
    "re.findall(\"GOAT\\Z\", s8)"
   ]
  },
  {
   "cell_type": "markdown",
   "id": "13dd4ac1",
   "metadata": {},
   "source": [
    "### 3. Sets : A set is a set of characters inside a pair of square brackets [] with a special meaning "
   ]
  },
  {
   "cell_type": "code",
   "execution_count": 102,
   "id": "d5ea5c6c",
   "metadata": {},
   "outputs": [
    {
     "data": {
      "text/plain": [
       "['W', 'i', 'q', 's', 'i', 's']"
      ]
     },
     "execution_count": 102,
     "metadata": {},
     "output_type": "execute_result"
    }
   ],
   "source": [
    "# [arn]  Returns a match where one of the specified characters (a, r, or n) is present\n",
    "#(you can write anything in place of arn)\n",
    "s10 = \"Who am i to question your efforts\"\n",
    "\n",
    "re.findall(\"[Wiqs]\", s10)"
   ]
  },
  {
   "cell_type": "code",
   "execution_count": 103,
   "id": "4a6dc5f0",
   "metadata": {},
   "outputs": [
    {
     "data": {
      "text/plain": [
       "['h', 'a', 'm', 'i', 'e', 'i', 'n', 'e', 'f', 'f']"
      ]
     },
     "execution_count": 103,
     "metadata": {},
     "output_type": "execute_result"
    }
   ],
   "source": [
    "# [a-n]  Returns a match for any lower case character, alphabetically between a and n\n",
    "# (you can write anything in place of a-n)\n",
    "\n",
    "re.findall(\"[a-n]\", s10)"
   ]
  },
  {
   "cell_type": "code",
   "execution_count": 104,
   "id": "73858b24",
   "metadata": {},
   "outputs": [
    {
     "data": {
      "text/plain": [
       "['o', 'i', 'l', ' ', 'i', ' ', 'p', 'e', 'd']"
      ]
     },
     "execution_count": 104,
     "metadata": {},
     "output_type": "execute_result"
    }
   ],
   "source": [
    "# [^arn]  Returns a match for any character EXCEPT a, r, and n\n",
    "#(you can write anything in place of arn)\n",
    "s11 = \"abronil is passed\"\n",
    "re.findall(\"[^abrns]\", s11)"
   ]
  },
  {
   "cell_type": "code",
   "execution_count": 105,
   "id": "e56c58f8",
   "metadata": {},
   "outputs": [
    {
     "data": {
      "text/plain": [
       "['1', '4', '0', '2', '1']"
      ]
     },
     "execution_count": 105,
     "metadata": {},
     "output_type": "execute_result"
    }
   ],
   "source": [
    "# [0123]  Returns a match where any of the specified digits (0, 1, 2, or 3) are present\n",
    "# (you can write anything in place of 0123)\n",
    "s12 = \"My rank is 134021 in JEE\"\n",
    "\n",
    "re.findall(\"[0142]\", s12)"
   ]
  },
  {
   "cell_type": "code",
   "execution_count": 106,
   "id": "1eed281e",
   "metadata": {},
   "outputs": [
    {
     "data": {
      "text/plain": [
       "['1', '0', '2', '1']"
      ]
     },
     "execution_count": 106,
     "metadata": {},
     "output_type": "execute_result"
    }
   ],
   "source": [
    "# [0-9] Returns a match for any digit between 0 and 9\n",
    "# (you can write anything in place of 0-9)\n",
    "\n",
    "re.findall(\"[0-2]\", s12)"
   ]
  },
  {
   "cell_type": "code",
   "execution_count": 107,
   "id": "1e56bb1f",
   "metadata": {},
   "outputs": [
    {
     "data": {
      "text/plain": [
       "['45', '30']"
      ]
     },
     "execution_count": 107,
     "metadata": {},
     "output_type": "execute_result"
    }
   ],
   "source": [
    "# [0-5][0-9] Returns a match for any two-digit numbers from 00 and 59\n",
    "\n",
    "# (you can write anything in place of 0-5 and 0-9)\n",
    "\n",
    "s13 = \"my roll no is 45, day of birth is 30 and i scored 90%\"\n",
    "\n",
    "re.findall(\"[0-5][0-9]\", s13)"
   ]
  },
  {
   "cell_type": "code",
   "execution_count": 108,
   "id": "3e1809e2",
   "metadata": {},
   "outputs": [
    {
     "data": {
      "text/plain": [
       "['M', 'y', 'r', 'a', 'n', 'k', 'i', 's', 'i', 'n', 'J', 'E', 'E']"
      ]
     },
     "execution_count": 108,
     "metadata": {},
     "output_type": "execute_result"
    }
   ],
   "source": [
    "# [a-zA-Z]  Returns a match for any character alphabetically between a and z, lower case OR upper case\n",
    "\n",
    "re.findall(\"[a-zA-Z]\", s12)"
   ]
  },
  {
   "cell_type": "code",
   "execution_count": 109,
   "id": "62c50f8d",
   "metadata": {},
   "outputs": [
    {
     "data": {
      "text/plain": [
       "['*']"
      ]
     },
     "execution_count": 109,
     "metadata": {},
     "output_type": "execute_result"
    }
   ],
   "source": [
    "# [+] In sets, +, *, ., |, (), $,{} has no special meaning, so [+] means: \n",
    "# return a match for any + character in the string\n",
    "s14 = \"1 + (2  * 9)\"\n",
    "\n",
    "re.findall(\"[*]\", s14)"
   ]
  },
  {
   "cell_type": "markdown",
   "id": "02eb3548",
   "metadata": {},
   "source": [
    "### 1. The findall() function returns a list containing all matches.\n",
    "\n",
    "**See above examples**\n",
    "\n",
    "1. Matches are returned in order they are found\n",
    "2. If no match is there then empty list is returned"
   ]
  },
  {
   "cell_type": "markdown",
   "id": "9eace1c9",
   "metadata": {},
   "source": [
    "### 2. The search() function searches the string for a match, and returns a Match object if there is a match. \n",
    "\n",
    "1. If there is more than one match, only the first occurrence of the match will be returned\n",
    "2. If no matches are found, the value None is returned"
   ]
  },
  {
   "cell_type": "code",
   "execution_count": 110,
   "id": "98c1ff5d",
   "metadata": {},
   "outputs": [
    {
     "data": {
      "text/plain": [
       "<re.Match object; span=(0, 17), match='The rain in Spain'>"
      ]
     },
     "execution_count": 110,
     "metadata": {},
     "output_type": "execute_result"
    }
   ],
   "source": [
    "txt = \"The rain in Spain\"\n",
    "\n",
    "re.search(\"^The.*Spain$\", txt)"
   ]
  },
  {
   "cell_type": "code",
   "execution_count": 111,
   "id": "bd464095",
   "metadata": {},
   "outputs": [
    {
     "name": "stdout",
     "output_type": "stream",
     "text": [
      "None\n"
     ]
    }
   ],
   "source": [
    "txt = \"It rains in Shimla\"\n",
    "\n",
    "print(re.search(\"^The.*Spain$\", txt))"
   ]
  },
  {
   "cell_type": "markdown",
   "id": "fac16a6b",
   "metadata": {},
   "source": [
    "### 3. The split() function returns a list where the string has been split at each match"
   ]
  },
  {
   "cell_type": "code",
   "execution_count": 112,
   "id": "dba1a27d",
   "metadata": {},
   "outputs": [
    {
     "data": {
      "text/plain": [
       "['Neeraj', 'Chopra', 'is', 'an', 'Indian', 'track', 'and', 'field', 'athlete.']"
      ]
     },
     "execution_count": 112,
     "metadata": {},
     "output_type": "execute_result"
    }
   ],
   "source": [
    "s15 = \"Neeraj Chopra is an Indian track and field athlete.\"\n",
    "\n",
    "re.split(\"\\s\", s15)"
   ]
  },
  {
   "cell_type": "markdown",
   "id": "2d17e853",
   "metadata": {},
   "source": [
    "**You can control the number of occurrences by specifying the maxsplit parameter**"
   ]
  },
  {
   "cell_type": "code",
   "execution_count": 113,
   "id": "012edb4a",
   "metadata": {},
   "outputs": [
    {
     "data": {
      "text/plain": [
       "['Neeraj', 'Chopra', 'is an Indian track and field athlete.']"
      ]
     },
     "execution_count": 113,
     "metadata": {},
     "output_type": "execute_result"
    }
   ],
   "source": [
    "re.split(\"\\s\", s15, 2)"
   ]
  },
  {
   "cell_type": "markdown",
   "id": "e630c8c0",
   "metadata": {},
   "source": [
    "### 4. The sub() function replaces the matches with the text of your choice"
   ]
  },
  {
   "cell_type": "code",
   "execution_count": 114,
   "id": "e3a10d91",
   "metadata": {},
   "outputs": [
    {
     "data": {
      "text/plain": [
       "'Neeraj#Chopra#is#an#Indian#track#and#field#athlete.'"
      ]
     },
     "execution_count": 114,
     "metadata": {},
     "output_type": "execute_result"
    }
   ],
   "source": [
    "re.sub(\"\\s\", \"#\", s15)"
   ]
  },
  {
   "cell_type": "markdown",
   "id": "41c35463",
   "metadata": {},
   "source": [
    "**You can control the number of replacements by specifying the count parameter**"
   ]
  },
  {
   "cell_type": "code",
   "execution_count": 115,
   "id": "6ac12c9b",
   "metadata": {},
   "outputs": [
    {
     "data": {
      "text/plain": [
       "'Neeraj#Chopra#is#an Indian track and field athlete.'"
      ]
     },
     "execution_count": 115,
     "metadata": {},
     "output_type": "execute_result"
    }
   ],
   "source": [
    "re.sub(\"\\s\", \"#\", s15,3)"
   ]
  },
  {
   "cell_type": "markdown",
   "id": "947cf678",
   "metadata": {},
   "source": [
    "## A Match Object is an object containing information about the search and the result.\n",
    "\n",
    "1. If there is no match, the value None will be returned, instead of the Match Object."
   ]
  },
  {
   "cell_type": "code",
   "execution_count": 116,
   "id": "1d82c371",
   "metadata": {},
   "outputs": [
    {
     "name": "stdout",
     "output_type": "stream",
     "text": [
      "<re.Match object; span=(4, 6), match='ai'>\n"
     ]
    }
   ],
   "source": [
    "x = re.search(\"ai\", txt)\n",
    "print(x)"
   ]
  },
  {
   "cell_type": "markdown",
   "id": "3bf08b86",
   "metadata": {},
   "source": [
    "**The Match object has properties and methods used to retrieve information about the search, and the result**\n",
    "\n",
    "1. .span() returns a tuple containing the start-, and end positions of the match.\n",
    "2. .string returns the string passed into the function\n",
    "3. .group() returns the part of the string where there was a match"
   ]
  },
  {
   "cell_type": "code",
   "execution_count": 117,
   "id": "30f3a589",
   "metadata": {},
   "outputs": [
    {
     "name": "stdout",
     "output_type": "stream",
     "text": [
      "(12, 18)\n"
     ]
    }
   ],
   "source": [
    "x = re.search(r\"\\bS\\w+\", txt)\n",
    "print(x.span())"
   ]
  },
  {
   "cell_type": "code",
   "execution_count": 118,
   "id": "2e241148",
   "metadata": {},
   "outputs": [
    {
     "name": "stdout",
     "output_type": "stream",
     "text": [
      "It rains in Shimla\n"
     ]
    }
   ],
   "source": [
    "x = re.search(r\"\\bS\\w+\", txt)\n",
    "print(x.string)"
   ]
  },
  {
   "cell_type": "code",
   "execution_count": 119,
   "id": "354cc3ca",
   "metadata": {},
   "outputs": [
    {
     "name": "stdout",
     "output_type": "stream",
     "text": [
      "Shimla\n"
     ]
    }
   ],
   "source": [
    "x = re.search(r\"\\bS\\w+\", txt)\n",
    "print(x.group())"
   ]
  }
 ],
 "metadata": {
  "kernelspec": {
   "display_name": "Python 3 (ipykernel)",
   "language": "python",
   "name": "python3"
  },
  "language_info": {
   "codemirror_mode": {
    "name": "ipython",
    "version": 3
   },
   "file_extension": ".py",
   "mimetype": "text/x-python",
   "name": "python",
   "nbconvert_exporter": "python",
   "pygments_lexer": "ipython3",
   "version": "3.9.12"
  }
 },
 "nbformat": 4,
 "nbformat_minor": 5
}
